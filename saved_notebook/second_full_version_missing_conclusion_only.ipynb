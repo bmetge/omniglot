{
  "nbformat": 4,
  "nbformat_minor": 0,
  "metadata": {
    "colab": {
      "name": "Omniglot_Data_Augmentation.ipynb",
      "version": "0.3.2",
      "provenance": [],
      "collapsed_sections": [
        "ETnqnkGNEO_d",
        "tEr_zOr430VW",
        "KRXLy19Wx0e_",
        "62UtFHvr5RAX",
        "x6ttxAuECQkB",
        "Ce4ugZ6b6JM4",
        "668QlSw6lYhd"
      ]
    },
    "kernelspec": {
      "name": "python3",
      "display_name": "Python 3"
    },
    "accelerator": "GPU"
  },
  "cells": [
    {
      "metadata": {
        "id": "ETnqnkGNEO_d",
        "colab_type": "text"
      },
      "cell_type": "markdown",
      "source": [
        "# Introduction"
      ]
    },
    {
      "metadata": {
        "id": "5Ab5TgUnEQhm",
        "colab_type": "text"
      },
      "cell_type": "markdown",
      "source": [
        "The following is Baptiste Metge challenge's notebook. Thanks a lot for your time reviewing it.\n",
        "\n",
        "I decided to go for the omniglot challenge since I am very interested in computer vision and it reminded me my master thesis, back at the university, on face recognition when only a single image of the person to recognise was provided.\n",
        "\n",
        "Omniglot is a database of 50 alphabets hand-written characters images with 20 different images per letter.\n",
        "\n",
        "The challenge : \"Use background set of 30 alphabets for training and evaluate on set of 20 alphabets. Report one-shot classification (20-way) results.\"\n",
        "\n",
        "As requested, I will describe my process steps to tackle this challenge.\n",
        "\n",
        "What I usualy do first, is to have a look at the data. I therefore downloaded the data from the git repo suggested for sampling : https://github.com/brendenlake/omniglot and since its amount is relativly small, I had a look directly in my files system manager.\n",
        "\n",
        "First thing to notice: data is well organised ( which is not always the case when you discover a new dataset). Training and testing data are in 2 separate folders. Then data is split by alphabet and then characters. Moreover, images are all squared, so resizing them all to the same dimensions should be easy.\n",
        "\n",
        "Second step: online research about the Omniglot dataset : what is it ? Why was it made for ? etc. In order to better understand it. It was first intended to be a web design and translation service and it as been used in data science to do few-shot/one-shot/zero-shot learning.\n",
        "\n",
        "Then, I did some online search to undertstand the meaning of \"one-shot classification (20-way)\". One-shot learning aims to learn information about object categories from one single training samples/images. 20 way means classifying our one shot query image/object within a support set of 20 images/objects.\n",
        "\n",
        "\n",
        "Next step : what work has already been done by the data science community on OSL (One shot learning)? I've tried to gather main scientific papers on the topic. I had a quick look at the accuracy given on each papers, and their date of publication. I then picked up the recent papers having the top accuracies results and good comparative description of other methods. Having a look at the reputation of the publisher would make sense. I therefore selected for detailled  reading : Prototypical Network (PN) http://papers.nips.cc/paper/6996-prototypical-networks-for-few-shot-learning.pdf and Relational Network (RN) https://arxiv.org/pdf/1711.06025.pdf\n",
        "\n",
        "Online I found two github torch implementation of the thoses papers made by their respectives writers, so probably reliable. Both had very similar results, RN was only a bit better. The main difference is that RN was learning a metric to calculate loss where PN was using a simple euclidian distance. I managed to run both code. However, PN was easier to understand to me, faster to run. Moreover, I managed to even boost it with my own implementation ( explain below). Therefore I decided to try to implement a prototypical network solution and try some \"hacks\" to improve it."
      ]
    },
    {
      "metadata": {
        "id": "tEr_zOr430VW",
        "colab_type": "text"
      },
      "cell_type": "markdown",
      "source": [
        "# set up, settings and import"
      ]
    },
    {
      "metadata": {
        "id": "j49POoLInM4M",
        "colab_type": "text"
      },
      "cell_type": "markdown",
      "source": [
        "This section install the required libs, upload the required data and does the set up."
      ]
    },
    {
      "metadata": {
        "id": "Nrbr5ZX-35s_",
        "colab_type": "code",
        "outputId": "91830a0a-9e1a-4705-b1f3-129d010d1e4a",
        "colab": {
          "base_uri": "https://localhost:8080/",
          "height": 598
        }
      },
      "cell_type": "code",
      "source": [
        "# required lib installation\n",
        "!pip install torch torchvision line_profiler pillow # you made need to restart runtime : \"Runtime > restart runtime\""
      ],
      "execution_count": 4,
      "outputs": [
        {
          "output_type": "stream",
          "text": [
            "Collecting torch\n",
            "\u001b[?25l  Downloading https://files.pythonhosted.org/packages/49/0e/e382bcf1a6ae8225f50b99cc26effa2d4cc6d66975ccf3fa9590efcbedce/torch-0.4.1-cp36-cp36m-manylinux1_x86_64.whl (519.5MB)\n",
            "\u001b[K    100% |████████████████████████████████| 519.5MB 33kB/s \n",
            "tcmalloc: large alloc 1073750016 bytes == 0x59762000 @  0x7f4aaaae02a4 0x591a07 0x5b5d56 0x502e9a 0x506859 0x502209 0x502f3d 0x506859 0x504c28 0x502540 0x502f3d 0x506859 0x504c28 0x502540 0x502f3d 0x506859 0x504c28 0x502540 0x502f3d 0x507641 0x502209 0x502f3d 0x506859 0x504c28 0x502540 0x502f3d 0x507641 0x504c28 0x502540 0x502f3d 0x507641\n",
            "\u001b[?25hCollecting torchvision\n",
            "\u001b[?25l  Downloading https://files.pythonhosted.org/packages/ca/0d/f00b2885711e08bd71242ebe7b96561e6f6d01fdb4b9dcf4d37e2e13c5e1/torchvision-0.2.1-py2.py3-none-any.whl (54kB)\n",
            "\u001b[K    100% |████████████████████████████████| 61kB 21.2MB/s \n",
            "\u001b[?25hCollecting line_profiler\n",
            "\u001b[?25l  Downloading https://files.pythonhosted.org/packages/14/fc/ecf4e238bb601ff829068e5a72cd1bd67b0ee0ae379db172eb6a0779c6b6/line_profiler-2.1.2.tar.gz (83kB)\n",
            "\u001b[K    100% |████████████████████████████████| 92kB 23.5MB/s \n",
            "\u001b[?25hRequirement already satisfied: pillow in /usr/local/lib/python3.6/dist-packages (4.0.0)\n",
            "Requirement already satisfied: six in /usr/local/lib/python3.6/dist-packages (from torchvision) (1.11.0)\n",
            "Requirement already satisfied: numpy in /usr/local/lib/python3.6/dist-packages (from torchvision) (1.14.6)\n",
            "Requirement already satisfied: IPython>=0.13 in /usr/local/lib/python3.6/dist-packages (from line_profiler) (5.5.0)\n",
            "Requirement already satisfied: olefile in /usr/local/lib/python3.6/dist-packages (from pillow) (0.46)\n",
            "Requirement already satisfied: pexpect; sys_platform != \"win32\" in /usr/local/lib/python3.6/dist-packages (from IPython>=0.13->line_profiler) (4.6.0)\n",
            "Requirement already satisfied: simplegeneric>0.8 in /usr/local/lib/python3.6/dist-packages (from IPython>=0.13->line_profiler) (0.8.1)\n",
            "Requirement already satisfied: pickleshare in /usr/local/lib/python3.6/dist-packages (from IPython>=0.13->line_profiler) (0.7.5)\n",
            "Requirement already satisfied: traitlets>=4.2 in /usr/local/lib/python3.6/dist-packages (from IPython>=0.13->line_profiler) (4.3.2)\n",
            "Requirement already satisfied: prompt-toolkit<2.0.0,>=1.0.4 in /usr/local/lib/python3.6/dist-packages (from IPython>=0.13->line_profiler) (1.0.15)\n",
            "Requirement already satisfied: pygments in /usr/local/lib/python3.6/dist-packages (from IPython>=0.13->line_profiler) (2.1.3)\n",
            "Requirement already satisfied: setuptools>=18.5 in /usr/local/lib/python3.6/dist-packages (from IPython>=0.13->line_profiler) (40.6.2)\n",
            "Requirement already satisfied: decorator in /usr/local/lib/python3.6/dist-packages (from IPython>=0.13->line_profiler) (4.3.0)\n",
            "Requirement already satisfied: ptyprocess>=0.5 in /usr/local/lib/python3.6/dist-packages (from pexpect; sys_platform != \"win32\"->IPython>=0.13->line_profiler) (0.6.0)\n",
            "Requirement already satisfied: ipython-genutils in /usr/local/lib/python3.6/dist-packages (from traitlets>=4.2->IPython>=0.13->line_profiler) (0.2.0)\n",
            "Requirement already satisfied: wcwidth in /usr/local/lib/python3.6/dist-packages (from prompt-toolkit<2.0.0,>=1.0.4->IPython>=0.13->line_profiler) (0.1.7)\n",
            "Building wheels for collected packages: line-profiler\n",
            "  Running setup.py bdist_wheel for line-profiler ... \u001b[?25l-\b \b\\\b \b|\b \b/\b \bdone\n",
            "\u001b[?25h  Stored in directory: /root/.cache/pip/wheels/05/7d/9b/aafbe8d78dc2b2c644d2efd2f060ab3258143860142575193a\n",
            "Successfully built line-profiler\n",
            "\u001b[31mtorchvision 0.2.1 has requirement pillow>=4.1.1, but you'll have pillow 4.0.0 which is incompatible.\u001b[0m\n",
            "Installing collected packages: torch, torchvision, line-profiler\n",
            "Successfully installed line-profiler-2.1.2 torch-0.4.1 torchvision-0.2.1\n"
          ],
          "name": "stdout"
        }
      ]
    },
    {
      "metadata": {
        "id": "UX5AjArd37is",
        "colab_type": "code",
        "outputId": "42815aa7-797c-45f9-a4a6-a2e96c5db879",
        "colab": {
          "base_uri": "https://localhost:8080/",
          "height": 85
        }
      },
      "cell_type": "code",
      "source": [
        "# clone the challenge repo for sampling \n",
        "!git clone https://github.com/brendenlake/omniglot.git"
      ],
      "execution_count": 5,
      "outputs": [
        {
          "output_type": "stream",
          "text": [
            "Cloning into 'omniglot'...\n",
            "remote: Enumerating objects: 67, done.\u001b[K\n",
            "remote: Total 67 (delta 0), reused 0 (delta 0), pack-reused 67\u001b[K\n",
            "Unpacking objects: 100% (67/67), done.\n"
          ],
          "name": "stdout"
        }
      ]
    },
    {
      "metadata": {
        "id": "f-yzD-MgnrF0",
        "colab_type": "text"
      },
      "cell_type": "markdown",
      "source": [
        "** Folders arranging **"
      ]
    },
    {
      "metadata": {
        "id": "lCq2DJbf39Zj",
        "colab_type": "code",
        "colab": {}
      },
      "cell_type": "code",
      "source": [
        "!mkdir data"
      ],
      "execution_count": 0,
      "outputs": []
    },
    {
      "metadata": {
        "id": "nINWca7u39ia",
        "colab_type": "code",
        "colab": {}
      },
      "cell_type": "code",
      "source": [
        "!unzip -qq omniglot/python/images_evaluation.zip -d ."
      ],
      "execution_count": 0,
      "outputs": []
    },
    {
      "metadata": {
        "id": "nUc4Klay39mE",
        "colab_type": "code",
        "colab": {}
      },
      "cell_type": "code",
      "source": [
        "!unzip -qq omniglot/python/images_background.zip -d ."
      ],
      "execution_count": 0,
      "outputs": []
    },
    {
      "metadata": {
        "id": "BOllAn7339oW",
        "colab_type": "code",
        "colab": {}
      },
      "cell_type": "code",
      "source": [
        "!mv images_background/* data"
      ],
      "execution_count": 0,
      "outputs": []
    },
    {
      "metadata": {
        "id": "zsSQiwvV390u",
        "colab_type": "code",
        "colab": {}
      },
      "cell_type": "code",
      "source": [
        "!mv images_evaluation/* data"
      ],
      "execution_count": 0,
      "outputs": []
    },
    {
      "metadata": {
        "id": "qeBLeBge4jF9",
        "colab_type": "code",
        "outputId": "8659bcda-52c7-496d-ec7d-ca5f11657956",
        "colab": {
          "base_uri": "https://localhost:8080/",
          "height": 85
        }
      },
      "cell_type": "code",
      "source": [
        "# load my saved models and results. In case I do not want to retrain some models from scratch\n",
        "!git clone https://github.com/bmetge/omniglot_20ways_1shot"
      ],
      "execution_count": 11,
      "outputs": [
        {
          "output_type": "stream",
          "text": [
            "Cloning into 'omniglot_20ways_1shot'...\n",
            "remote: Enumerating objects: 63, done.\u001b[K\n",
            "remote: Total 63 (delta 0), reused 0 (delta 0), pack-reused 63\u001b[K\n",
            "Unpacking objects: 100% (63/63), done.\n"
          ],
          "name": "stdout"
        }
      ]
    },
    {
      "metadata": {
        "id": "KksTh-aRoQgL",
        "colab_type": "text"
      },
      "cell_type": "markdown",
      "source": [
        "**Few generals settings**\n",
        "\n",
        "*ATTENTION* : Please notice I used the learning rate settings of the paper implemantion from github. They does work quite well. A deeper study could be done for choosing them. However, picking up a good learning rate is a big topic by itself, I choosed to focus more on the one-shot 20 ways study, but it could be tackle for improvement."
      ]
    },
    {
      "metadata": {
        "id": "Uu4nKFAM39yd",
        "colab_type": "code",
        "colab": {}
      },
      "cell_type": "code",
      "source": [
        "root = \"./data/\"\n",
        "background_path = \"./omniglot/python/images_background.zip\"\n",
        "evaluation_path = \"./omniglot/python/images_evaluation.zip\"\n",
        "\n",
        "# settings for the paper on PN\n",
        "learning_rate=0.001\n",
        "lr_scheduler_step=20  ##\n",
        "lr_scheduler_gamma=0.5  ##\n",
        "\n",
        "print_freq=1\n",
        "\n",
        "device= \"cuda:0\" # put cpu here if you want to use your cpu instead\n",
        "\n",
        "LOAD_MODEL = True"
      ],
      "execution_count": 0,
      "outputs": []
    },
    {
      "metadata": {
        "id": "9nUGPlra39wk",
        "colab_type": "code",
        "colab": {}
      },
      "cell_type": "code",
      "source": [
        "# libs importing\n",
        "import torch\n",
        "import torch.nn as nn\n",
        "import torchvision\n",
        "from PIL import Image, ImageOps\n",
        "import matplotlib.pyplot as plt\n",
        "from os.path import join as pj\n",
        "import os\n",
        "import zipfile\n",
        "from tqdm import tqdm\n",
        "import numpy as np\n",
        "from itertools import chain\n",
        "from sklearn.manifold import TSNE\n",
        "from google.colab import files\n",
        "from line_profiler import LineProfiler\n",
        "\n",
        "\n",
        "\n",
        "%matplotlib inline\n",
        "%load_ext line_profiler"
      ],
      "execution_count": 0,
      "outputs": []
    },
    {
      "metadata": {
        "id": "Zjd_S5WpgkcG",
        "colab_type": "code",
        "colab": {}
      },
      "cell_type": "code",
      "source": [
        "# utils fonctions to save and load model or results that has been optain and store in the past to avoid retraining.\n",
        "import pickle\n",
        "def save_object(obj, filename):\n",
        "    with open(filename, 'wb') as output:  # Overwrites any existing file.\n",
        "        pickle.dump(obj, output, pickle.HIGHEST_PROTOCOL)\n",
        "        \n",
        "def load_object(filename):\n",
        "    try:\n",
        "        if os.path.exists(filename):\n",
        "            with open(filename, 'rb') as input:\n",
        "                return pickle.load(input)\n",
        "        else:\n",
        "            return None\n",
        "    except Exception as e:\n",
        "        print(\"Error while loading object :\" + str(e))\n",
        "        return None\n",
        "        "
      ],
      "execution_count": 0,
      "outputs": []
    },
    {
      "metadata": {
        "id": "KRXLy19Wx0e_",
        "colab_type": "text"
      },
      "cell_type": "markdown",
      "source": [
        "# How I speeded up the loss calculation fonction\n",
        "\n",
        "As mentionned in my introduction, I managed to boost the calculation of the loss, by using broadcasting to calculate the euclidian distance. Below, we compare the speed of the original fonction \"euclidean_dist\" and my own fonction \"ec\". On the same test below the \"euclidian_dist\" tooks 2.64847 s to run where my \"ec\" fonction took  1.19781 s. You can tun the test yourself :  **It is more than 2 times faster.** most of the time. Considering we are calling it a tremendous amount of time while training, it is, I believe, a good finding."
      ]
    },
    {
      "metadata": {
        "id": "X4jjHkW2x6RV",
        "colab_type": "code",
        "colab": {}
      },
      "cell_type": "code",
      "source": [
        "# original\n",
        "def euclidean_dist(x, y):\n",
        "    '''\n",
        "        Compute euclidean distance between two tensors\n",
        "    '''\n",
        "    n = x.size(0)\n",
        "    m = y.size(0)\n",
        "    d = x.size(1)\n",
        "    x = x.unsqueeze(1).expand(n, m, d) ## on copie m fois x\n",
        "    y = y.unsqueeze(0).expand(n, m, d) ## on copie n fois y\n",
        "    return torch.pow(x - y, 2).sum(2)  ## \n",
        "\n",
        "# boosted with broadcasting\n",
        "def ec(x,y):\n",
        "    xy = x.mm(y.t())  \n",
        "    xnorm = (x*x).sum(1).unsqueeze(1)  \n",
        "    ynorm = (y*y).sum(1).unsqueeze(0)\n",
        "    return (xnorm + ynorm - 2*xy)"
      ],
      "execution_count": 0,
      "outputs": []
    },
    {
      "metadata": {
        "id": "FJGrJAUlx6z7",
        "colab_type": "code",
        "colab": {}
      },
      "cell_type": "code",
      "source": [
        "x = torch.from_numpy(np.random.rand(10000,1))\n",
        "y = torch.from_numpy(np.random.rand(10000,1))"
      ],
      "execution_count": 0,
      "outputs": []
    },
    {
      "metadata": {
        "id": "TlK1oFIex63o",
        "colab_type": "code",
        "colab": {
          "base_uri": "https://localhost:8080/",
          "height": 340
        },
        "outputId": "bce57bf0-9dc6-416e-92bf-fcfdfd8e1bc1"
      },
      "cell_type": "code",
      "source": [
        "lp = LineProfiler()\n",
        "lp_wrapper = lp(euclidean_dist)\n",
        "lp_wrapper(x,y)\n",
        "lp.print_stats()"
      ],
      "execution_count": 190,
      "outputs": [
        {
          "output_type": "stream",
          "text": [
            "Timer unit: 1e-06 s\n",
            "\n",
            "Total time: 2.64847 s\n",
            "File: <ipython-input-186-1d78da456e0d>\n",
            "Function: euclidean_dist at line 1\n",
            "\n",
            "Line #      Hits         Time  Per Hit   % Time  Line Contents\n",
            "==============================================================\n",
            "     1                                           def euclidean_dist(x, y):\n",
            "     2                                               '''\n",
            "     3                                                   Compute euclidean distance between two tensors\n",
            "     4                                               '''\n",
            "     5         1         13.0     13.0      0.0      n = x.size(0)\n",
            "     6         1          3.0      3.0      0.0      m = y.size(0)\n",
            "     7         1          1.0      1.0      0.0      d = x.size(1)\n",
            "     8         1        624.0    624.0      0.0      x = x.unsqueeze(1).expand(n, m, d) ## on copie m fois x\n",
            "     9         1         23.0     23.0      0.0      y = y.unsqueeze(0).expand(n, m, d) ## on copie n fois y\n",
            "    10         1    2647811.0 2647811.0    100.0      return torch.pow(x - y, 2).sum(2)  ## \n",
            "\n"
          ],
          "name": "stdout"
        }
      ]
    },
    {
      "metadata": {
        "id": "1V3oS7o8ybwe",
        "colab_type": "code",
        "colab": {
          "base_uri": "https://localhost:8080/",
          "height": 255
        },
        "outputId": "1a1ff07e-ca49-49cc-e044-1d38a62a9d9e"
      },
      "cell_type": "code",
      "source": [
        "lp = LineProfiler()\n",
        "lp_wrapper = lp(ec)\n",
        "lp_wrapper(x,y)\n",
        "lp.print_stats()"
      ],
      "execution_count": 191,
      "outputs": [
        {
          "output_type": "stream",
          "text": [
            "Timer unit: 1e-06 s\n",
            "\n",
            "Total time: 1.19781 s\n",
            "File: <ipython-input-186-1d78da456e0d>\n",
            "Function: ec at line 13\n",
            "\n",
            "Line #      Hits         Time  Per Hit   % Time  Line Contents\n",
            "==============================================================\n",
            "    13                                           def ec(x,y):\n",
            "    14         1     289988.0 289988.0     24.2      xy = x.mm(y.t())  \n",
            "    15         1        298.0    298.0      0.0      xnorm = (x*x).sum(1).unsqueeze(1)  \n",
            "    16         1        206.0    206.0      0.0      ynorm = (y*y).sum(1).unsqueeze(0)\n",
            "    17         1     907318.0 907318.0     75.7      return (xnorm + ynorm - 2*xy)\n",
            "\n"
          ],
          "name": "stdout"
        }
      ]
    },
    {
      "metadata": {
        "id": "62UtFHvr5RAX",
        "colab_type": "text"
      },
      "cell_type": "markdown",
      "source": [
        "# Model Definition\n",
        "\n",
        "Here is the Prototypical network definition. I did two changes from the reference paper:\n",
        "\n",
        "\n",
        "1.   In the PN paper, the do some data augmentation of +90, -90 and 180 degrees on each image. I did some more light affine transformation to keep the augmented characters always on the same side. Since a \"M\" becomes a \"W\" when you flip it, I believe this was making more sense. \n",
        "2.   To augment the model capacity I used two different convolution block. \"conv_block_shallow\" is has describe in the paper conv-bn-relu-pool. And I tried using also a \"conv_block_deep\" which is a conv-bn-relu-conv-bn-relu-pool block.\n",
        "\n",
        "Results are discussed below.\n",
        "\n"
      ]
    },
    {
      "metadata": {
        "id": "ob8WgmEw39uK",
        "colab_type": "code",
        "colab": {}
      },
      "cell_type": "code",
      "source": [
        "def conv_block_shallow(in_channels, out_channels):\n",
        "    '''\n",
        "    returns a block conv-bn-relu-pool\n",
        "    '''\n",
        "    return nn.Sequential(\n",
        "        nn.Conv2d(in_channels, out_channels, 3, padding=1),\n",
        "        nn.BatchNorm2d(out_channels),\n",
        "        nn.ReLU(),\n",
        "        nn.MaxPool2d(2)\n",
        "    )\n",
        "\n",
        "def conv_block_deep(in_channels, out_channels):\n",
        "    '''\n",
        "    returns a block conv-bn-relu-conv-bn-relu-pool\n",
        "    '''\n",
        "    return nn.Sequential(\n",
        "        nn.Conv2d(in_channels, out_channels, 3, padding=1),\n",
        "        nn.BatchNorm2d(out_channels),\n",
        "        nn.ReLU(),\n",
        "        \n",
        "        nn.Conv2d(out_channels, out_channels, 3, padding=1),\n",
        "        nn.BatchNorm2d(out_channels),\n",
        "        nn.ReLU(),\n",
        "        \n",
        "        nn.MaxPool2d(2)\n",
        "    )\n",
        "\n",
        "class ProtoNet(nn.Module):\n",
        "    '''\n",
        "    Prototyical network as described in the reference paper,\n",
        "    source: https://github.com/jakesnell/prototypical-networks/blob/f0c48808e496989d01db59f86d4449d7aee9ab0c/protonets/models/few_shot.py#L62-L84\n",
        "    '''\n",
        "    def __init__(self, x_dim=1, hid_dim=64, z_dim=64, conv_block=conv_block_deep):\n",
        "        super(ProtoNet, self).__init__()\n",
        "        self.encoder = nn.Sequential(\n",
        "            conv_block(x_dim,   hid_dim),\n",
        "            conv_block(hid_dim, hid_dim),\n",
        "            conv_block(hid_dim, hid_dim),\n",
        "            conv_block(hid_dim, z_dim),\n",
        "        )\n",
        "\n",
        "    def forward(self, x):\n",
        "        x = self.encoder(x)\n",
        "        return x.view(x.size(0), -1)\n",
        "    \n",
        "def get_model(model_path, conv_block=conv_block_deep):\n",
        "    '''\n",
        "    util fonction to upload a previously trained model if needed.\n",
        "    '''\n",
        "    if os.path.exists(model_path):\n",
        "        try:\n",
        "            model = ProtoNet(conv_block=conv_block).to(device)\n",
        "            model.load_state_dict(torch.load(model_path))#, map_location={'cuda:0': 'cpu'}))   # uncomment when you work on cpu.\n",
        "            return model\n",
        "        except Exception as e:\n",
        "            print(\"Error while loading model :\" + str(e))\n",
        "            return None\n",
        "    else:\n",
        "        return None\n"
      ],
      "execution_count": 0,
      "outputs": []
    },
    {
      "metadata": {
        "id": "xul6Tx-b4Xx1",
        "colab_type": "code",
        "colab": {}
      },
      "cell_type": "code",
      "source": [
        "def train_split():\n",
        "    '''\n",
        "        Returns the alphabets folders name specify for training in the challenge.\n",
        "    '''\n",
        "    with zipfile.ZipFile(background_path) as f:\n",
        "        x = set(map(lambda x:x.filename.split(\"/\")[1], f.filelist))\n",
        "        return list(filter(lambda x:len(x)>0, x))\n",
        "\n",
        "def test_split():\n",
        "    '''\n",
        "        Returns the alphabets folders name specify for testing in the challenge.\n",
        "    '''\n",
        "    with zipfile.ZipFile(evaluation_path) as f:\n",
        "        x = set(map(lambda x:x.filename.split(\"/\")[1], f.filelist))\n",
        "        return list(filter(lambda x:len(x)>0, x))\n",
        "\n",
        "def load_data(classes):\n",
        "    \"\"\"\n",
        "        Load the file data in memory \n",
        "        (without any operation on it to be able to perform different kind of transformation on it later if needed)\n",
        "    \"\"\"\n",
        "    x, y, cur = [],[],0\n",
        "    for cl in tqdm(classes):\n",
        "        for ch in os.listdir(pj(root, cl)):\n",
        "            base = pj(root, cl, ch)\n",
        "            for im in filter(lambda x:x.endswith(\".png\"), os.listdir(base)):\n",
        "                im = read_image(pj(base, im))\n",
        "                x.append(im)\n",
        "                y.append(cur)\n",
        "            cur+=1\n",
        "    y = torch.LongTensor(y).to(device)\n",
        "    return x,y\n",
        "\n",
        "def read_image(fp, size=(28,28)):\n",
        "    '''\n",
        "        reads an image\n",
        "    '''\n",
        "    im = Image.open(fp)\n",
        "    im = im.convert(\"L\")\n",
        "    im = ImageOps.invert(im)\n",
        "    return im.resize(size)\n",
        "    return im\n",
        "\n",
        "\n",
        "def transform_dataset(images, aff=lambda x:x):\n",
        "    '''\n",
        "        apply the transformation aff on the dataset ( used for data augmentation)\n",
        "    '''\n",
        "    x = [transform_image(im, aff) for im in images]\n",
        "    return torch.cat(x).float().to(device)\n",
        "\n",
        "def transform_image(im, aff):\n",
        "    '''\n",
        "        apply the transformation aff on im ( used for data augmentation)\n",
        "    '''\n",
        "    im = aff(im)\n",
        "    im = im.resize((28,28))\n",
        "    im = np.array(im)\n",
        "    im = torch.from_numpy(im)\n",
        "    return im.unsqueeze(0)\n",
        "\n",
        "# Belows fonction are for setting up which data images to used on one batch testing case.\n",
        "def get_batch_ids(n_class, n_way, k_shot, n_samp=20):\n",
        "    cid  = np.random.choice(n_class, n_way, replace=False).repeat(k_shot) \n",
        "    offs = np.concatenate([np.random.choice(n_samp, k_shot, replace=False) for i in range(n_way)])\n",
        "    return cid*n_samp + offs\n",
        "\n",
        "def sample_set_ids(ids):\n",
        "    return ids[::2], ids[1::2]\n",
        "    \n",
        "def index_bid(x, support, query):\n",
        "    return x[support], x[query]\n",
        "\n",
        "def sample_batch(x, n_class, n_way, k_shot, n_samp=20):\n",
        "    bid = get_batch_ids(n_class, n_way, k_shot, n_samp)\n",
        "    support, query = sample_set_ids(bid)\n",
        "    return index_bid(x, support, query)\n",
        "\n",
        "\n",
        "\n",
        "class OmniGlotDs():\n",
        "    '''\n",
        "        Omniglot dataset class. N-WAY default is 60 as it is specify in the paper to be better at training time.\n",
        "    '''\n",
        "    def __init__(self, classes, k_shot=5, n_way=60, n_samp=20, n_iter=1000, transform=None):\n",
        "        self.x,self.y = load_data(classes)\n",
        "        self.n_class = len(self.y.cpu().unique())\n",
        "        self.n_iter = n_iter\n",
        "        self.k_shot = k_shot\n",
        "        self.n_way  = n_way\n",
        "        self.n_samp = n_samp\n",
        "        self.transform = transform if transform else lambda x:x\n",
        "        self._generate_split()\n",
        "        \n",
        "    def _generate_split(self):\n",
        "        self.X = transform_dataset(self.x, self.transform)\n",
        "        \n",
        "    def sample(self):\n",
        "        return sample_batch(self.X, self.n_class, self.n_way, \n",
        "                            self.k_shot*2, self.n_samp)\n",
        "    \n",
        "    def __iter__(self):            \n",
        "        for i in range(self.n_iter):\n",
        "            yield self.sample()\n",
        "            \n",
        "    def __len__(self):\n",
        "        return self.n_iter"
      ],
      "execution_count": 0,
      "outputs": []
    },
    {
      "metadata": {
        "id": "6rjtaNhH4X1q",
        "colab_type": "code",
        "colab": {}
      },
      "cell_type": "code",
      "source": [
        "def ec(x,y):\n",
        "    xy = x.mm(y.t()) \n",
        "    xnorm = (x*x).sum(1).unsqueeze(1)\n",
        "    ynorm = (y*y).sum(1).unsqueeze(0)\n",
        "    return (xnorm + ynorm - 2*xy) \n",
        " \n",
        "def lossfunc(proto, query, lbl):\n",
        "    dists = ec(query, proto)\n",
        "    loss  = torch.nn.CrossEntropyLoss()(-dists, lbl)\n",
        "    acc   = (dists.min(1)[1]==lbl).float().mean().item()\n",
        "    return loss, acc\n",
        "\n",
        "def test_model(model, ds):\n",
        "    '''\n",
        "        Test the model with the prototypical learning algorithm\n",
        "    '''\n",
        "    accuracy = []\n",
        "    model.eval()\n",
        "    n_way = ds.n_way\n",
        "    k_shot = ds.k_shot\n",
        "    lbl = torch.from_numpy(np.arange(n_way).repeat(k_shot)).to(device)\n",
        "    for xim, yim in tqdm(ds):\n",
        "        inp = torch.cat([xim,yim]).unsqueeze(1)\n",
        "        out = model(inp)\n",
        "        proto = out[:n_way*k_shot]\n",
        "        proto = proto.view(ds.n_way, ds.k_shot,-1).mean(1)\n",
        "        query = out[n_way*k_shot:]\n",
        "        _, acc = lossfunc(proto, query, lbl)\n",
        "        accuracy.append(acc)\n",
        "    return accuracy\n",
        "\n",
        "def get_loss_acc(model, ds):\n",
        "    '''\n",
        "        Returns loss and accuracy for model : model , used with ds dataset.\n",
        "    '''\n",
        "    accuracy = []\n",
        "    losses = []\n",
        "    model.eval()\n",
        "    n_way = ds.n_way\n",
        "    k_shot = ds.k_shot\n",
        "    lbl = torch.from_numpy(np.arange(n_way).repeat(k_shot)).to(device)\n",
        "    for xim, yim in tqdm(ds):\n",
        "        inp = torch.cat([xim,yim]).unsqueeze(1)\n",
        "        out = model(inp)\n",
        "        proto = out[:n_way*k_shot]\n",
        "        proto = proto.view(ds.n_way, ds.k_shot,-1).mean(1)\n",
        "        query = out[n_way*k_shot:]\n",
        "        loss, acc = lossfunc(proto, query, lbl)\n",
        "        accuracy.append(acc)\n",
        "        losses.append(loss)\n",
        "    return losses, accuracy\n",
        "\n",
        "def train_epoch(model, optim, ds):\n",
        "    '''\n",
        "        Train the model with the prototypical learning algorithm for one epoch.\n",
        "    '''\n",
        "    model.train()\n",
        "    ds._generate_split()\n",
        "    n_way = ds.n_way\n",
        "    k_shot = ds.k_shot\n",
        "    lbl = torch.from_numpy(np.arange(n_way).repeat(k_shot)).to(device)\n",
        "    losses, accuracies = [],[]\n",
        "    for xim, yim in tqdm(ds):\n",
        "        inp = torch.cat([xim,yim]).unsqueeze(1)\n",
        "        out = model(inp)\n",
        "        \n",
        "        proto = out[:n_way*k_shot]\n",
        "        proto = proto.view(ds.n_way, ds.k_shot,-1).mean(1)\n",
        "        query = out[n_way*k_shot:]\n",
        "        loss, acc = lossfunc(proto, query, lbl)\n",
        "        \n",
        "        optim.zero_grad()\n",
        "        loss.backward()\n",
        "        optim.step()\n",
        "        \n",
        "        losses.append(loss.item())\n",
        "        accuracies.append(acc)\n",
        "    return losses, accuracies\n",
        "\n",
        "def train_model(model, optim, ds_train, ds_test, lr_scheduler, nepochs=10, print_freq=2):\n",
        "    '''\n",
        "        Train the model with the prototypical learning algorithm on all epoch.\n",
        "    '''\n",
        "    losses, tr_acc, te_acc = [],[],[]\n",
        "    for epoch in range(nepochs):\n",
        "        loss, acc = train_epoch(model, optim, ds_train)\n",
        "        losses.append(loss)\n",
        "        tr_acc.append(acc)\n",
        "        print('Training Avg Loss: {}, Avg Acc: {}'.format(np.mean(loss), np.mean(acc)))\n",
        "        if epoch % print_freq==0:\n",
        "            acc = test_model(model, ds_test)\n",
        "            te_acc.append(acc)\n",
        "            print('Test Accuracy: {}'.format(np.mean(acc)))\n",
        "        lr_scheduler.step()\n",
        "    return losses, tr_acc, te_acc"
      ],
      "execution_count": 0,
      "outputs": []
    },
    {
      "metadata": {
        "id": "d2y7S3DM4X98",
        "colab_type": "code",
        "colab": {}
      },
      "cell_type": "code",
      "source": [
        "# loadling the classes splits\n",
        "test_class = test_split()\n",
        "train_class = train_split()\n",
        "\n",
        "# params\n",
        "nepochs = 50\n",
        "nepochs = 2\n",
        "print_freq=1\n",
        "device=\"cuda:0\" #device=\"cpu\"  -> choose here"
      ],
      "execution_count": 0,
      "outputs": []
    },
    {
      "metadata": {
        "id": "x6ttxAuECQkB",
        "colab_type": "text"
      },
      "cell_type": "markdown",
      "source": [
        "# Effect of data augmentation visualization\n",
        "\n",
        "This section provide an hint on why using data augmentation at training time. Each time we run a batch we apply a random tranformation on it and you can see on the last cell that it looks like more images written by more persons of the same character. Data augmentation is a well known technique in data science."
      ]
    },
    {
      "metadata": {
        "id": "hXpmGzTcEKvX",
        "colab_type": "code",
        "colab": {}
      },
      "cell_type": "code",
      "source": [
        "test_class = test_split()"
      ],
      "execution_count": 0,
      "outputs": []
    },
    {
      "metadata": {
        "id": "KgqtfcR_CVjf",
        "colab_type": "code",
        "outputId": "8cab3d96-6cf7-46fa-863f-cf4ea4a3d935",
        "colab": {
          "base_uri": "https://localhost:8080/",
          "height": 34
        }
      },
      "cell_type": "code",
      "source": [
        "ds_test = OmniGlotDs(test_class, k_shot=1, n_iter=1000)"
      ],
      "execution_count": 0,
      "outputs": [
        {
          "output_type": "stream",
          "text": [
            "100%|██████████| 20/20 [00:03<00:00,  4.34it/s]\n"
          ],
          "name": "stderr"
        }
      ]
    },
    {
      "metadata": {
        "id": "vMS3L-1vCxge",
        "colab_type": "code",
        "colab": {}
      },
      "cell_type": "code",
      "source": [
        "Aff = torchvision.transforms.RandomAffine(15, shear=25, scale=(.8,1.1), resample=Image.BILINEAR)"
      ],
      "execution_count": 0,
      "outputs": []
    },
    {
      "metadata": {
        "id": "IPY63XMIC2JM",
        "colab_type": "code",
        "colab": {}
      },
      "cell_type": "code",
      "source": [
        "a = ds_test.x[0]"
      ],
      "execution_count": 0,
      "outputs": []
    },
    {
      "metadata": {
        "id": "1DAe3POSC4YY",
        "colab_type": "code",
        "outputId": "e721d261-ff93-4f46-dabb-7688b05d7875",
        "colab": {
          "base_uri": "https://localhost:8080/",
          "height": 282
        }
      },
      "cell_type": "code",
      "source": [
        "#plt.style.use(\"dark_background\")\n",
        "plt.axis('off')\n",
        "\n",
        "plt.imshow(np.array(a), cmap=\"gray\")"
      ],
      "execution_count": 0,
      "outputs": [
        {
          "output_type": "execute_result",
          "data": {
            "text/plain": [
              "<matplotlib.image.AxesImage at 0x7f3ca4053f28>"
            ]
          },
          "metadata": {
            "tags": []
          },
          "execution_count": 23
        },
        {
          "output_type": "display_data",
          "data": {
            "image/png": "[encoded data removed]",
            "text/plain": [
              "<matplotlib.figure.Figure at 0x7f3ca40fa3c8>"
            ]
          },
          "metadata": {
            "tags": []
          }
        }
      ]
    },
    {
      "metadata": {
        "id": "PgUie7jLC6nV",
        "colab_type": "code",
        "outputId": "f64058a3-0aca-44b0-b9fb-bb6c2bc2b4a9",
        "colab": {
          "base_uri": "https://localhost:8080/",
          "height": 484
        }
      },
      "cell_type": "code",
      "source": [
        "#plt.axis('off')\n",
        "\n",
        "w=10\n",
        "h=10\n",
        "fig=plt.figure(figsize=(8, 8))\n",
        "columns = 3\n",
        "rows = 3\n",
        "for i in range(1, columns*rows +1):\n",
        "    img = Aff(a)\n",
        "    fig.add_subplot(rows, columns, i)\n",
        "    plt.imshow(np.array(img), cmap='gray')\n",
        "plt.show()"
      ],
      "execution_count": 0,
      "outputs": [
        {
          "output_type": "display_data",
          "data": {
            "image/png": "[encoded data removed]",
            "text/plain": [
              "<matplotlib.figure.Figure at 0x7f3ca4080240>"
            ]
          },
          "metadata": {
            "tags": []
          }
        }
      ]
    },
    {
      "metadata": {
        "id": "Ce4ugZ6b6JM4",
        "colab_type": "text"
      },
      "cell_type": "markdown",
      "source": [
        "# Model validation\n",
        "\n",
        "In this section we validate our model by testing it's accuracy. We test four cases:\n",
        "\n",
        "\n",
        "1.   No  data augmentation with conv_block_shallow\n",
        "2.   No data augmentation with conv_block_deep\n",
        "3.   Data augmentation with conv_block_shallow\n",
        "4.   Data augmentation with conv_block_deep\n",
        "\n",
        "Plots of the results are below. We will see that option 4 works the best.\n",
        "\n",
        "\n",
        "\n"
      ]
    },
    {
      "metadata": {
        "id": "XEhGOW5V4YBp",
        "colab_type": "code",
        "colab": {}
      },
      "cell_type": "code",
      "source": [
        "# no data augmentation \n",
        "no_augmentation  = lambda x:x\n",
        "no_augmentation.__name__ = \"no_augmentation\"\n",
        "\n",
        "# data augmentation\n",
        "yes_augmentation = Aff = torchvision.transforms.RandomAffine(15, shear=25, scale=(.8,1.1))\n",
        "yes_augmentation.__name__ = \"yes_augmentation\"\n",
        "\n",
        "results = {}\n",
        "models = {}\n",
        "\n",
        "n_iter = 1000\n",
        "nepochs = 50\n",
        "print_freq = 1\n",
        "\n",
        "for Aff in [no_augmentation, yes_augmentation]:\n",
        "        # Testing the 2 conv blocks\n",
        "        for conv_block in [conv_block_shallow, conv_block_deep]:\n",
        "            key_path = Aff.__name__ + \"_\" + conv_block.__name__ + \"_\" + str(nepochs) + \"_epochs\"\n",
        "            print(\"STATUS :   \" + key_path)\n",
        "            model_path_validation = \"./omniglot_20ways_1shot/saved_models/model_validation_\" + key_path\n",
        "            result_pickle_name = \"./omniglot_20ways_1shot/saved_results/result_validation_\" + key_path + \".pkl\"\n",
        "            model_nways = get_model(model_path_validation,conv_block=conv_block)\n",
        "            if model_nways:\n",
        "                print('MODEL UPLOADED')\n",
        "                models[(key_path)] = model_nways\n",
        "                result = load_object(result_pickle_name)\n",
        "                if result:\n",
        "                    print('Results successfully retrived')\n",
        "                    results[(key_path)] = result\n",
        "                else:\n",
        "                    print(\"Enable to load results !!!\")\n",
        "            else:\n",
        "                print('MODEL NOT FOUND , creating one...')\n",
        "                ds_train = OmniGlotDs(train_class, transform=Aff, k_shot=1, n_iter=n_iter)\n",
        "                ds_test  = OmniGlotDs(test_class, k_shot=1, n_way=20, n_iter=n_iter)\n",
        "                model = ProtoNet(conv_block=conv_block).to(device)\n",
        "                \n",
        "                # learning rate settings ( as in PN paper)\n",
        "                optim = torch.optim.Adam(params=model.parameters(), lr=learning_rate)\n",
        "                lr_scheduler = torch.optim.lr_scheduler.StepLR(optimizer=optim,\n",
        "                                                               gamma=lr_scheduler_gamma,\n",
        "                                                               step_size=lr_scheduler_step)\n",
        "                # training\n",
        "                losses, tr_acc, te_acc = train_model(model, optim, ds_train, ds_test, lr_scheduler, nepochs=nepochs, print_freq=print_freq)\n",
        "                results[(key_path)] = losses, tr_acc, te_acc\n",
        "                models[(key_path)] = model\n",
        "                \n",
        "                # saving the model\n",
        "                try:\n",
        "                    print(\"Saving the model \" + Aff.__name__ + conv_block.__name__)\n",
        "                    torch.save(model.state_dict(), model_path_validation)\n",
        "                    files.download(model_path_validation)\n",
        "                except Exception as e:\n",
        "                    print(\"Exception while saving model :\" + str(e))\n",
        "                    \n",
        "                # saving the result\n",
        "                try:\n",
        "                    print(\"Saving the results \" + Aff.__name__ + conv_block.__name__)\n",
        "                    save_object(filename=result_pickle_name,obj=results[(key_path)])\n",
        "                    files.download(result_pickle_name)\n",
        "                except Exception as e:\n",
        "                    print(\"Exception while saving results :\" + str(e))\n"
      ],
      "execution_count": 0,
      "outputs": []
    },
    {
      "metadata": {
        "id": "EEBqCLQU4YGX",
        "colab_type": "code",
        "colab": {}
      },
      "cell_type": "code",
      "source": [
        "# prepare for plotting\n",
        "res = []\n",
        "models_ = []\n",
        "for Aff in [no_augmentation, yes_augmentation]:\n",
        "    for conv_block in [conv_block_shallow, conv_block_deep]:\n",
        "        key_path = Aff.__name__ + \"_\" + conv_block.__name__ + \"_\" + str(nepochs) + \"_epochs\"\n",
        "        res.append(results[(key_path)])        \n",
        "        models_.append(models[(key_path)]) "
      ],
      "execution_count": 0,
      "outputs": []
    },
    {
      "metadata": {
        "id": "GbVjDMvI4X7s",
        "colab_type": "code",
        "colab": {
          "base_uri": "https://localhost:8080/",
          "height": 328
        },
        "outputId": "5f544889-4cfa-4aac-b34c-1875c7c1e8f9"
      },
      "cell_type": "code",
      "source": [
        "# No augmentation, shallow \n",
        "x = res[0]\n",
        "loss = [np.mean(x_) for x_ in x[0]]\n",
        "train = [np.mean(x_) for x_ in x[1]]\n",
        "test = [np.mean(x_) for x_ in x[2]]\n",
        "x_train = range(nepochs)\n",
        "x_test = range(0,nepochs,print_freq)\n",
        "\n",
        "plt.plot(x_train, train, color='green')\n",
        "plt.plot(x_test, test, color='blue')\n",
        "plt.title('No augmentation, shallow convolution')\n",
        "plt.xlabel(\"number of epochs\")\n",
        "plt.ylabel(\"accuracy\")\n",
        "\n",
        "print(\"Final accuracy obtain: \" + str(test[-1]*100) + \" / 100 % \\n\")"
      ],
      "execution_count": 171,
      "outputs": [
        {
          "output_type": "stream",
          "text": [
            "Final accuracy obtain: 91.01500095725059 / 100 % \n",
            "\n"
          ],
          "name": "stdout"
        },
        {
          "output_type": "display_data",
          "data": {
            "image/png": "[encoded data removed]",
            "text/plain": [
              "<matplotlib.figure.Figure at 0x7f4661e2d630>"
            ]
          },
          "metadata": {
            "tags": []
          }
        }
      ]
    },
    {
      "metadata": {
        "id": "Cptt3-8QxviT",
        "colab_type": "text"
      },
      "cell_type": "markdown",
      "source": [
        "First thing to notice, we reach more than 90% accuracy, so the model can be considered as working.\n",
        "\n",
        "In green, we can see the training curve. In blue the testing curve. (we will keep this colors for all the following)\n",
        "\n",
        "The training curve almost reach 100% accuracy at the end, while the testing curve stays around 91% . This clearly indicates a **overfitting** issue.\n"
      ]
    },
    {
      "metadata": {
        "id": "I17g8fbd4X6A",
        "colab_type": "code",
        "colab": {
          "base_uri": "https://localhost:8080/",
          "height": 328
        },
        "outputId": "d65f15ea-f07d-4f9d-a91f-3b176ecaef1c"
      },
      "cell_type": "code",
      "source": [
        "# No augmentation, Deep \n",
        "x = res[1]\n",
        "loss = [np.mean(x_) for x_ in x[0]]\n",
        "train = [np.mean(x_) for x_ in x[1]]\n",
        "test = [np.mean(x_) for x_ in x[2]]\n",
        "x_train = range(nepochs)\n",
        "x_test = range(0,nepochs,print_freq)\n",
        "\n",
        "plt.plot(x_train, train, color='green')\n",
        "plt.plot(x_test, test, color='blue')\n",
        "plt.title('No augmentation, deep convolution')\n",
        "plt.xlabel(\"number of epochs\")\n",
        "plt.ylabel(\"accuracy\")\n",
        "\n",
        "print(\"Final accuracy obtain: \" + str(test[-1]*100) + \" / 100 % \\n\")"
      ],
      "execution_count": 192,
      "outputs": [
        {
          "output_type": "stream",
          "text": [
            "Final accuracy obtain: 91.8550010383129 / 100 % \n",
            "\n"
          ],
          "name": "stdout"
        },
        {
          "output_type": "display_data",
          "data": {
            "image/png": "[encoded data removed]",
            "text/plain": [
              "<matplotlib.figure.Figure at 0x7f463db6bdd8>"
            ]
          },
          "metadata": {
            "tags": []
          }
        }
      ]
    },
    {
      "metadata": {
        "id": "SkW0vF8Nzc22",
        "colab_type": "text"
      },
      "cell_type": "markdown",
      "source": [
        "We also see an **overfitting** issue here. Though, our error went for 9% down to almost only 8%. **The model capacity to learn with conv_block_deep seems better !**"
      ]
    },
    {
      "metadata": {
        "id": "m8ZOygrg4X42",
        "colab_type": "code",
        "colab": {
          "base_uri": "https://localhost:8080/",
          "height": 328
        },
        "outputId": "3d6f18a8-133b-4ddd-e91b-1bf88e483739"
      },
      "cell_type": "code",
      "source": [
        "# Augmentation, shallow\n",
        "\n",
        "x = res[2]\n",
        "loss = [np.mean(x_) for x_ in x[0]]\n",
        "train = [np.mean(x_) for x_ in x[1]]\n",
        "test = [np.mean(x_) for x_ in x[2]]\n",
        "x_train = range(nepochs)\n",
        "x_test = range(0,nepochs,print_freq)\n",
        "\n",
        "plt.plot(x_train, train, color='green')\n",
        "plt.plot(x_test, test, color='blue')\n",
        "plt.title('Augmentation, shallow convolution')\n",
        "plt.xlabel(\"number of epochs\")\n",
        "plt.ylabel(\"accuracy\")\n",
        "\n",
        "print(\"Final accuracy obtain: \" + str(test[-1]*100) + \" / 100 % \\n\")"
      ],
      "execution_count": 193,
      "outputs": [
        {
          "output_type": "stream",
          "text": [
            "Final accuracy obtain: 92.92000084519387 / 100 % \n",
            "\n"
          ],
          "name": "stdout"
        },
        {
          "output_type": "display_data",
          "data": {
            "image/png": "[encoded data removed]",
            "text/plain": [
              "<matplotlib.figure.Figure at 0x7f4661ceeb00>"
            ]
          },
          "metadata": {
            "tags": []
          }
        }
      ]
    },
    {
      "metadata": {
        "id": "LR72PWp-z5lY",
        "colab_type": "text"
      },
      "cell_type": "markdown",
      "source": [
        "First thing to notice , the overfitting seems not reached yet on this graph. Training accuracy stays much below 100%. Moreover augmentation drops our error to almost only 7%. **ATTENTION: the testing curves is above the training curve, which can be surprising , but it is because , as stipulated above and in the paper, the training is done on 60 ways while the testing on 20 ways to get better results** Matching an object within 60 classes, is obviously more difficult than in 20, thus the above result. "
      ]
    },
    {
      "metadata": {
        "id": "mF7YDMFM4X0X",
        "colab_type": "code",
        "colab": {
          "base_uri": "https://localhost:8080/",
          "height": 328
        },
        "outputId": "1f576491-59a1-4399-8c66-e16845eeee0c"
      },
      "cell_type": "code",
      "source": [
        "# Augmentation, deep ==> decent result !!\n",
        "\n",
        "x = res[3]\n",
        "loss = [np.mean(x_) for x_ in x[0]]\n",
        "train = [np.mean(x_) for x_ in x[1]]\n",
        "test = [np.mean(x_) for x_ in x[2]]\n",
        "x_train = range(nepochs)\n",
        "x_test = range(0,nepochs,print_freq)\n",
        "\n",
        "plt.plot(x_train, train, color='green')\n",
        "plt.plot(x_test, test, color='blue')\n",
        "plt.title('Augmentation, deep convolution')\n",
        "plt.xlabel(\"number of epochs\")\n",
        "plt.ylabel(\"accuracy\")\n",
        "\n",
        "print(\"Final accuracy obtain: \" + str(test[-1]*100) + \" / 100 % \\n\")"
      ],
      "execution_count": 194,
      "outputs": [
        {
          "output_type": "stream",
          "text": [
            "Final accuracy obtain: 93.15500075817108 / 100 % \n",
            "\n"
          ],
          "name": "stdout"
        },
        {
          "output_type": "display_data",
          "data": {
            "image/png": "[encoded data removed]",
            "text/plain": [
              "<matplotlib.figure.Figure at 0x7f46623ba048>"
            ]
          },
          "metadata": {
            "tags": []
          }
        }
      ]
    },
    {
      "metadata": {
        "id": "ySK4INeL1M4i",
        "colab_type": "text"
      },
      "cell_type": "markdown",
      "source": [
        "By combining Augmentation and deep convolution block , our error drops below 7%. This is the best result."
      ]
    },
    {
      "metadata": {
        "id": "IwbptsPB1fGj",
        "colab_type": "text"
      },
      "cell_type": "markdown",
      "source": [
        "# Discussion\n",
        "\n",
        "In the paper for prototypical network, they reach a 96 % accuracy where we reach 93%.\n",
        "\n",
        "A potential explanation is that we are using different split. They use 1200 classes for training and 423 classes for testing. Our split use 964 classes for training and 659 for testing. Moreover, the 1200 classes they use in the paper are randomly selected from all the alphabet. In our split, we use separate alphabet for training and testing ! We can imagine that within a single alphabet there is similarities that can be learned at training in their case, but not in ours since our testing set is fully composed of unseen alphabet."
      ]
    },
    {
      "metadata": {
        "id": "668QlSw6lYhd",
        "colab_type": "text"
      },
      "cell_type": "markdown",
      "source": [
        "# Test on the challenge script runs\n",
        "\n",
        "The script in the challenge  repo reach [an average error of 38.75%](https://www.kaggle.com/baptistemetge/omniglot-fellowai) on the small  set contain here : https://github.com/brendenlake/omniglot/blob/master/python/one-shot-classification/all_runs.zip\n",
        "\n",
        "\n",
        "This section test our above model on this exact same set. "
      ]
    },
    {
      "metadata": {
        "id": "Z3OI6-jXGQIZ",
        "colab_type": "code",
        "colab": {}
      },
      "cell_type": "code",
      "source": [
        "# setting up the data from challenge script\n",
        "!mkdir data_challenge"
      ],
      "execution_count": 0,
      "outputs": []
    },
    {
      "metadata": {
        "id": "VBv-OcWEG1sB",
        "colab_type": "code",
        "colab": {}
      },
      "cell_type": "code",
      "source": [
        "!unzip -qq ./omniglot/python/one-shot-classification/all_runs.zip -d data_challenge"
      ],
      "execution_count": 0,
      "outputs": []
    },
    {
      "metadata": {
        "id": "9_XZAP_HKEbf",
        "colab_type": "code",
        "colab": {
          "base_uri": "https://localhost:8080/",
          "height": 34
        },
        "outputId": "ad949413-ca99-4ce1-c3d7-ec10fda4edc5"
      },
      "cell_type": "code",
      "source": [
        "# loading the above last model (session had crash in between and deadline is coming :/ )\n",
        "LOAD_MODEL = True\n",
        "challenge_model_path = \"./omniglot_20ways_1shot/saved_models/model_validation_yes_augmentation_conv_block_deep_50_epochs\"\n",
        "\n",
        "if LOAD_MODEL:\n",
        "    challenge_model = get_model(challenge_model_path)\n",
        "    if challenge_model:\n",
        "        print('MODEL UPLOADED CORRECTLY !')\n",
        "    else:\n",
        "        print('SORRY ! MODEL NOT FOUND. Please make sure your challenge_model_path is correct or train one with the above section')\n",
        "else:\n",
        "    try:\n",
        "        challenge_model = model_optim\n",
        "    except Exception as e:\n",
        "        print(\"please make sure you have run the above section to get your optim or load one setting LOAD_MODEL=True\")"
      ],
      "execution_count": 29,
      "outputs": [
        {
          "output_type": "stream",
          "text": [
            "MODEL UPLOADED CORRECTLY !\n"
          ],
          "name": "stdout"
        }
      ]
    },
    {
      "metadata": {
        "id": "wDmk60m3Hjgb",
        "colab_type": "code",
        "colab": {}
      },
      "cell_type": "code",
      "source": [
        "# Splits of the challenge  sampling\n",
        "class ChallengeDataset(object):\n",
        "    def __init__(self, root, nsamp):\n",
        "        self.runs = []\n",
        "        self.n_way = 20\n",
        "        self.k_shot = nsamp\n",
        "        self.base = root\n",
        "        \n",
        "        for run in os.listdir(root):\n",
        "            fp = pj(root, run, \"class_labels.txt\")\n",
        "            train, test = self._read_run(fp)\n",
        "            self.runs.append([train, test])\n",
        "            \n",
        "    def __len__(self):\n",
        "        return len(self.runs)\n",
        "    \n",
        "    def __iter__(self):\n",
        "        for run in self.runs:\n",
        "            yield run\n",
        "            \n",
        "    def _read_run(self, fp):\n",
        "        with open(fp) as f:\n",
        "            content = f.read().splitlines()\n",
        "            pairs = [line.split() for line in content]\n",
        "            test_files  = [pair[0] for pair in pairs]\n",
        "            train_files = [pair[1] for pair in pairs]\n",
        "        \n",
        "        im = [read_image(pj(self.base, im)) for im in test_files]\n",
        "        train = transform_dataset(im).view(-1,28,28)\n",
        "\n",
        "        im = [read_image(pj(self.base, im)) for im in train_files]\n",
        "        test = transform_dataset(im)\n",
        "        \n",
        "        return train, test\n",
        "    \n",
        "def read_image(fp, size=(28,28)):\n",
        "    \"\"\"\n",
        "        read the image under fp filepath and resize it.\n",
        "    \"\"\"\n",
        "    im = Image.open(fp)\n",
        "    im = im.convert(\"L\")\n",
        "    im = ImageOps.invert(im)\n",
        "    return im.resize(size)\n",
        "\n",
        "    \n",
        "def test_challenge(model, ds_test):\n",
        "    '''\n",
        "        Testing ont the challenge provided script same set\n",
        "    '''\n",
        "    accuracy = []\n",
        "    model.eval()\n",
        "    n_way = ds_test.n_way\n",
        "    k_shot = ds_test.k_shot\n",
        "    lbl = torch.from_numpy(np.arange(n_way)).to(device)\n",
        "    print(lbl.size())\n",
        "    for xim, yim in tqdm(ds_test):\n",
        "        inp = torch.cat([xim,yim]).unsqueeze(1)\n",
        "        out = model(inp)\n",
        "        proto = out[:n_way*k_shot]\n",
        "        proto = proto.view(ds_test.n_way, ds_test.k_shot,-1).mean(1)\n",
        "        query = out[n_way*k_shot:]\n",
        "        _, acc = lossfunc(proto, query, lbl)\n",
        "        accuracy.append(acc)\n",
        "    return accuracy"
      ],
      "execution_count": 0,
      "outputs": []
    },
    {
      "metadata": {
        "id": "H2NxqF5gJFoD",
        "colab_type": "code",
        "colab": {
          "base_uri": "https://localhost:8080/",
          "height": 102
        },
        "outputId": "e0ecee8f-f90a-4278-aac5-54a0c930ce0f"
      },
      "cell_type": "code",
      "source": [
        "ds_challenge = ChallengeDataset(\"./data_challenge\", 1)\n",
        "challenge_acc = test_challenge(challenge_model, ds_challenge)\n",
        "print(\"Accuracy in the challenge test = \" + str(100*np.mean(challenge_acc)) + \" % !\")"
      ],
      "execution_count": 33,
      "outputs": [
        {
          "output_type": "stream",
          "text": [
            "\n",
            "  0%|          | 0/20 [00:00<?, ?it/s]\u001b[A\n",
            " 90%|█████████ | 18/20 [00:00<00:00, 177.68it/s]\u001b[A\n",
            "100%|██████████| 20/20 [00:00<00:00, 169.93it/s]\u001b[A"
          ],
          "name": "stderr"
        },
        {
          "output_type": "stream",
          "text": [
            "torch.Size([20])\n",
            "Accuracy in the challenge test = 89.50000137090683 % !\n"
          ],
          "name": "stdout"
        }
      ]
    },
    {
      "metadata": {
        "id": "vP-i0-GdG_fZ",
        "colab_type": "text"
      },
      "cell_type": "markdown",
      "source": [
        "# Discussion\n",
        "\n",
        "Provided script had 38.75 % and we managed to get 89.5%.\n",
        "\n",
        "One could wonder, why above we reach 93% with the same model. An potential explanation is that the all_runs.zip contains only 20 folders providing each 20 query images and a support set. So we are running only 400 times the test, which might not be enough to get a proper averge of the accuracy."
      ]
    },
    {
      "metadata": {
        "id": "GmEZ_VxqKZfR",
        "colab_type": "text"
      },
      "cell_type": "markdown",
      "source": [
        "# Going further\n",
        "\n",
        "The following section explore some ways to go further in trying to improving the results.  Though, due to a lack of time before the deadline, it only shows and explain the ideas, but no official conclusion will be made from the result, as it would require to diving more deeply in the study and run more test."
      ]
    },
    {
      "metadata": {
        "id": "JU5wIyyyiMXN",
        "colab_type": "text"
      },
      "cell_type": "markdown",
      "source": [
        "## Test Time augmentation\n",
        "\n",
        "Test time augmentation is a well known technique to improve results at testing time. It does the same as the data augmentation we did above but at the testing time. It means, we will generate N affine transformation on each of images at test time. Below we show a small test using our \"best\" model and with several value of N."
      ]
    },
    {
      "metadata": {
        "id": "Z-FhvkI7nUL_",
        "colab_type": "code",
        "colab": {}
      },
      "cell_type": "code",
      "source": [
        "# Test time augmentation\n",
        "def transform_dataset_multi(images, aff=lambda x:x, nsamp=5):\n",
        "    x = [transform_image_multi(im, aff, nsamp) for im in images]\n",
        "    return torch.cat(x).float().to(device)\n",
        "\n",
        "def transform_image_multi(im, aff, nsamp):\n",
        "    im = [transform_image(im, aff) for i in range(nsamp)]\n",
        "    im = torch.cat(im)\n",
        "    return im.unsqueeze(0)\n",
        "\n",
        "\n",
        "def index_bid_multi(x, y, support, query):\n",
        "    return x[support].view(-1, 28, 28), y[query].view(-1, 28, 28)\n",
        "\n",
        "def sample_batch_multi(x, y, n_class, n_way, k_shot, n_samp=20):\n",
        "    bid = get_batch_ids(n_class, n_way, k_shot, n_samp)\n",
        "    support, query = sample_set_ids(bid)\n",
        "    return index_bid_multi(x, y, support, query)\n",
        "\n",
        "class OmniGlotDsMulti():\n",
        "    def __init__(self, classes, k_shot=5, n_way=60, n_samp=20, n_trans=10, n_iter=100, \n",
        "                 query_transform=None, proto_transform=None):\n",
        "        \"\"\" \n",
        "            Todo.\n",
        "        \"\"\"\n",
        "        self.x,self.y = load_data(classes)\n",
        "        self.n_class = len(self.y.cpu().unique())\n",
        "        self.n_iter = n_iter\n",
        "        self.k_shot = k_shot\n",
        "        self.n_way  = n_way\n",
        "        self.n_samp = n_samp\n",
        "        self.n_trans= n_trans\n",
        "        self.query_transform = query_transform if query_transform else lambda x:x\n",
        "        self.proto_transform = proto_transform if proto_transform else lambda x:x\n",
        "        self.generate_split()\n",
        "        self.generate_query_split()\n",
        "        \n",
        "    def generate_query_split(self):\n",
        "        self.queries = transform_dataset(self.x, self.query_transform)\n",
        "        \n",
        "    def generate_split(self):\n",
        "        self.support = transform_dataset_multi(self.x, self.proto_transform, self.n_trans)\n",
        "        \n",
        "    def sample(self):\n",
        "        return sample_batch_multi(self.support, self.queries,\n",
        "                                  self.n_class, self.n_way, \n",
        "                                  self.k_shot*2, self.n_samp)\n",
        "    \n",
        "    def __iter__(self):            \n",
        "        for i in range(self.n_iter):\n",
        "            yield self.sample()\n",
        "            \n",
        "    def __len__(self):\n",
        "        return self.n_iter"
      ],
      "execution_count": 0,
      "outputs": []
    },
    {
      "metadata": {
        "id": "3Y2wQsN5jiA_",
        "colab_type": "code",
        "colab": {}
      },
      "cell_type": "code",
      "source": [
        "def test_multi(model, ds):\n",
        "    '''\n",
        "        Run the test with test time augmentation:\n",
        "         -> dataset shoud be = OmniGlotDSMulti\n",
        "    '''\n",
        "    accuracy = []\n",
        "    model.eval()\n",
        "    n_way = ds.n_way\n",
        "    k_shot = ds.n_trans\n",
        "    lbl = torch.from_numpy(np.arange(n_way)).to(device)\n",
        "    for xim, yim in tqdm(ds):\n",
        "        inp = torch.cat([xim,yim]).unsqueeze(1)\n",
        "        out = model(inp)\n",
        "        proto = out[:n_way*k_shot]\n",
        "        proto = proto.view(n_way, k_shot,-1).mean(1)\n",
        "        query = out[n_way*k_shot:]\n",
        "        _, acc = lossfunc(proto, query, lbl)\n",
        "        accuracy.append(acc)\n",
        "    return accuracy"
      ],
      "execution_count": 0,
      "outputs": []
    },
    {
      "metadata": {
        "id": "BDsSMLZN_GX8",
        "colab_type": "code",
        "colab": {}
      },
      "cell_type": "code",
      "source": [
        "Aff = torchvision.transforms.RandomAffine(15, shear=25, scale=(.8,1.1))\n",
        "N_TRANS = [5, 10, 15, 20, 25, 30]\n",
        "\n",
        "n_iter = 1000\n",
        "print_freq=1\n",
        "\n",
        "#MODEL TO USE\n",
        "model_ntrans = models_[-1]  # HERE SELECT THE MODEL YOU WANNA USE\n",
        "test_acc_trans = []\n",
        "\n",
        "#loading train set\n",
        "ds_train = OmniGlotDs(train_class, transform=Aff, k_shot=1, n_iter=n_iter)#\n",
        "\n",
        "for NTRA in N_TRANS:\n",
        "    \n",
        "    #loading test set\n",
        "    ds_test  = OmniGlotDsMulti(test_class,query_transform=None, proto_transform=Aff, k_shot=1, n_way=20, n_iter=n_iter,n_trans=NTRA)\n",
        "    te_acc = test_multi(model_ntrans,ds_test)\n",
        "    test_acc_trans.append(np.mean(te_acc))"
      ],
      "execution_count": 0,
      "outputs": []
    },
    {
      "metadata": {
        "id": "qW-8fxBLCHR7",
        "colab_type": "code",
        "colab": {
          "base_uri": "https://localhost:8080/",
          "height": 311
        },
        "outputId": "f870518d-c46d-4064-d0ff-2448263e464e"
      },
      "cell_type": "code",
      "source": [
        "plt.plot(N_TRANS, test_acc_trans, color='blue')\n",
        "plt.title(\"TTA : test acc depending on nb of transform \")\n",
        "plt.xlabel('nb trans')\n",
        "plt.ylabel('acc')"
      ],
      "execution_count": 185,
      "outputs": [
        {
          "output_type": "execute_result",
          "data": {
            "text/plain": [
              "Text(0,0.5,'acc')"
            ]
          },
          "metadata": {
            "tags": []
          },
          "execution_count": 185
        },
        {
          "output_type": "display_data",
          "data": {
            "image/png": "[encoded data removed]",
            "text/plain": [
              "<matplotlib.figure.Figure at 0x7f4642683470>"
            ]
          },
          "metadata": {
            "tags": []
          }
        }
      ]
    },
    {
      "metadata": {
        "id": "13zrTnmHMwFG",
        "colab_type": "text"
      },
      "cell_type": "markdown",
      "source": [
        "**discussion** \n",
        "\n",
        "We see that doing so we reach 93.6 % accuray with 15 transformations at test time (our last best result was 93.1% when without TTA). Though, we tested only a few N values, so we can't really conclude on which value for N transformation is the best, but hopefully I can provide more if we meet later for an interview."
      ]
    },
    {
      "metadata": {
        "id": "g4VtHUU0AIp2",
        "colab_type": "text"
      },
      "cell_type": "markdown",
      "source": [
        "## vizualising TTA effect\n",
        "\n",
        "This section provides a visualization of what is happening with TTA."
      ]
    },
    {
      "metadata": {
        "id": "BYctl1DCAUwB",
        "colab_type": "code",
        "colab": {}
      },
      "cell_type": "code",
      "source": [
        "colors = np.random.rand(20, 3)\n",
        "\n",
        "def print_tsne(support, query, figsize=(10,10)):\n",
        "    nclass = query.size(0)\n",
        "    nsamp = int(support.size(0) / nclass)\n",
        "    if \"cuda\" in device:\n",
        "        data_points = torch.cat([support, query]).cpu().detach().numpy()\n",
        "    else:\n",
        "        data_points = torch.cat([support, query]).detach().numpy()\n",
        "    points = TSNE(2).fit_transform(data_points)\n",
        "    \n",
        "    support_p = points[:nclass*nsamp]\n",
        "    query_p = points[nclass*nsamp:]\n",
        "    \n",
        "    fig, axes = plt.subplots(1,1, figsize=figsize)\n",
        "    for i in range(nclass):\n",
        "        axes.scatter(support_p[i*nsamp:(i+1)*nsamp, 0], support_p[i*nsamp:(i+1)*nsamp,1], \n",
        "                     color=colors[i], marker=\"o\", alpha=0.5)\n",
        "        axes.scatter(query_p[i:(i+1),0], query_p[i:(i+1),1], color=colors[i], \n",
        "                     marker=\"v\", linewidths=.5, edgecolors=\"k\", alpha=1)\n",
        "\n",
        "def plot_test_sample(model, ds):\n",
        "    model.eval()\n",
        "    n_way = ds.n_way\n",
        "    k_shot = ds.n_trans\n",
        "    \n",
        "    for xim, yim in ds:\n",
        "        break\n",
        "        \n",
        "    inp = torch.cat([xim,yim]).unsqueeze(1)\n",
        "    out = model(inp)\n",
        "    \n",
        "    support = out[:n_way*k_shot]\n",
        "    query = out[n_way*k_shot:]\n",
        "    print_tsne(support, query)"
      ],
      "execution_count": 0,
      "outputs": []
    },
    {
      "metadata": {
        "id": "X4ys3Sd1AopR",
        "colab_type": "code",
        "colab": {}
      },
      "cell_type": "code",
      "source": [
        "# Avec data augmentation\n",
        "n_trans = 10\n",
        "ds_te = OmniGlotDsMulti(test_class,  proto_transform=Aff, \n",
        "                          k_shot=1, n_iter=1, \n",
        "                          n_way=20, n_trans=n_trans)"
      ],
      "execution_count": 0,
      "outputs": []
    },
    {
      "metadata": {
        "id": "Ptdrg2_VAotT",
        "colab_type": "code",
        "colab": {
          "base_uri": "https://localhost:8080/",
          "height": 626
        },
        "outputId": "cb8e4f15-888f-498c-84d3-e39d2428925f"
      },
      "cell_type": "code",
      "source": [
        "plt.style.use(\"dark_background\")\n",
        "print(' TTA effect visualization with TSNE \\n')\n",
        "plot_test_sample(challenge_model, ds_te)"
      ],
      "execution_count": 43,
      "outputs": [
        {
          "output_type": "stream",
          "text": [
            " TTA effect visualization with TSNE \n",
            "\n"
          ],
          "name": "stdout"
        },
        {
          "output_type": "display_data",
          "data": {
            "image/png": "[encoded data removed]",
            "text/plain": [
              "<matplotlib.figure.Figure at 0x7feb03f842e8>"
            ]
          },
          "metadata": {
            "tags": []
          }
        }
      ]
    },
    {
      "metadata": {
        "id": "PhyVa4rHN4My",
        "colab_type": "text"
      },
      "cell_type": "markdown",
      "source": [
        "**Explanation**\n",
        "\n",
        "We used TNSE to project our data in 2 dimensions. Rounds of each color are the N generated images of a single support image at testing. The color corresponding triangle show the corresponding query image. Those clusters allows more chances for a query to be close to the support set it belongs to than if they was only one single support image per character (one round of each color)"
      ]
    },
    {
      "metadata": {
        "id": "L4F-L2kUywgT",
        "colab_type": "text"
      },
      "cell_type": "markdown",
      "source": [
        "## changing the N_WAYS at training time"
      ]
    },
    {
      "metadata": {
        "id": "A0_zl7H3zCSf",
        "colab_type": "text"
      },
      "cell_type": "markdown",
      "source": [
        "**ACCORDING to the [paper](http://papers.nips.cc/paper/6996-prototypical-networks-for-few-shot-learning.pdf)** : *\"We trained Prototypical Networks using Euclidean\n",
        "distance in the 1-shot and 5-shot scenarios\n",
        "with training episodes containing 60 classes\n",
        "and 5 query points per class. We found that it\n",
        "is advantageous to match the training-shot with\n",
        "the test-shot, and to use more classes (higher\n",
        "“way”) per training episode rather than fewer.\"\"*\n",
        "\n",
        "\n",
        "Can we verify this and what would happen with even higher values of N WAYS ? I used only 30 epochs to get my results. "
      ]
    },
    {
      "metadata": {
        "id": "mcGvc2KdyxTW",
        "colab_type": "code",
        "colab": {}
      },
      "cell_type": "code",
      "source": [
        "Aff = torchvision.transforms.RandomAffine(15, shear=25, scale=(.8,1.1))\n",
        "N_WAYS = [5, 10, 20, 30, 45, 60, 80, 100, 120, 140]\n",
        "results_nways = {}\n",
        "models_nways = {}\n",
        "nepochs = 30\n",
        "n_iter = 1000\n",
        "print_freq=1\n",
        "LOAD_MODEL = True\n",
        "\n",
        "#loading test set\n",
        "ds_test  = OmniGlotDs(test_class, k_shot=1, n_way=20, n_iter=n_iter)\n",
        "\n",
        "for NWAY in N_WAYS:\n",
        "    model_path = \"./omniglot_20ways_1shot/saved_models/model_\" + str(NWAY) + \"_nways_\" + str(nepochs) + \"_epochs\"\n",
        "    \n",
        "    #loading train set\n",
        "    ds_train = OmniGlotDs(train_class, transform=Aff, k_shot=1, n_iter=n_iter, n_way=NWAY)\n",
        "    \n",
        "    if LOAD_MODEL:\n",
        "        model_nways = get_model(model_path)\n",
        "        if model_nways:\n",
        "            print('MODEL UPLOADED')\n",
        "            losses, tr_acc = None, None # no relevant here \n",
        "            te_acc = test_model(model_nways, ds_test)\n",
        "            results_nways[(NWAY)] = losses, tr_acc, te_acc\n",
        "        else:\n",
        "            print('MODEL NOT FOUND , creating one...')\n",
        "            model_nways = ProtoNet(conv_block=conv_block_deep).to(device)\n",
        "\n",
        "            # Adam and LR\n",
        "            optim = torch.optim.Adam(params=model_nways.parameters(), lr=learning_rate)\n",
        "            lr_scheduler = torch.optim.lr_scheduler.StepLR(optimizer=optim,\n",
        "                                                           gamma=lr_scheduler_gamma,\n",
        "                                                           step_size=lr_scheduler_step)\n",
        "            # Training\n",
        "            losses, tr_acc, te_acc = train_model(model_nways, optim, ds_train, ds_test, lr_scheduler, nepochs=nepochs, print_freq=print_freq)\n",
        "            results_nways[(NWAY)] = losses, tr_acc, te_acc\n",
        "            models_nways[(NWAY)] = model_nways\n",
        "            # saving the model\n",
        "            try:\n",
        "                torch.save(model_nways.state_dict(), model_path)\n",
        "                files.download(model_path)\n",
        "            except Exception as e:\n",
        "                print(\"Exception while saving model :\" + str(e))"
      ],
      "execution_count": 0,
      "outputs": []
    },
    {
      "metadata": {
        "id": "DQOEvjb59alL",
        "colab_type": "code",
        "colab": {}
      },
      "cell_type": "code",
      "source": [
        "res_nways = []\n",
        "for NWAY in N_WAYS:\n",
        "    res_nways.append(results_nways[(NWAY)])"
      ],
      "execution_count": 0,
      "outputs": []
    },
    {
      "metadata": {
        "id": "UJyoM7Rnis4W",
        "colab_type": "code",
        "colab": {}
      },
      "cell_type": "code",
      "source": [
        "### TMP\n",
        "res_nways = []\n",
        "#N_WAYS = [5,10,20,30]\n",
        "for NWAY in N_WAYS:\n",
        "    res_nways.append(results_nways[(NWAY)])\n",
        "    # saving the result\n",
        "    try:\n",
        "        result_pickle_name = \"./omniglot_20ways_1shot/saved_results/result_\" + str(NWAY) + \"_nways_\" + str(nepochs) + \"_epochs\"\n",
        "        print(\"Saving the results \" + result_pickle_name)\n",
        "        save_object(filename=result_pickle_name,obj=results_nways[(NWAY)])\n",
        "        files.download(result_pickle_name)\n",
        "    except Exception as e:\n",
        "        print(\"Exception while saving results :\" + str(e))"
      ],
      "execution_count": 0,
      "outputs": []
    },
    {
      "metadata": {
        "id": "xvj6vJlThfrg",
        "colab_type": "code",
        "colab": {}
      },
      "cell_type": "code",
      "source": [
        "!mkdir ./omniglot_20ways_1shot/saved_results"
      ],
      "execution_count": 0,
      "outputs": []
    },
    {
      "metadata": {
        "id": "cRwK-VNP9nxs",
        "colab_type": "code",
        "colab": {}
      },
      "cell_type": "code",
      "source": [
        "try:\n",
        "    loss = [np.mean(x[0]) for x in res_nways]\n",
        "    train = [np.mean(x[1]) for x in res_nways]\n",
        "except Exception as e:\n",
        "    pass\n",
        "test = [np.mean(x[2]) for x in res_nways]"
      ],
      "execution_count": 0,
      "outputs": []
    },
    {
      "metadata": {
        "id": "vSTOZ_2krSj6",
        "colab_type": "code",
        "colab": {}
      },
      "cell_type": "code",
      "source": [
        "files.download(\"./omniglot_20ways_1shot/saved_models/model_140_nways_30_epochs\")"
      ],
      "execution_count": 0,
      "outputs": []
    },
    {
      "metadata": {
        "id": "yaGHr9CA5ITd",
        "colab_type": "code",
        "colab": {
          "base_uri": "https://localhost:8080/",
          "height": 297
        },
        "outputId": "e4897f27-1cb2-47f4-e17b-6eac016e9655"
      },
      "cell_type": "code",
      "source": [
        "plt.plot(N_WAYS, test, color='blue')\n",
        "plt.title(\"test acc regarding nway at training\")"
      ],
      "execution_count": 40,
      "outputs": [
        {
          "output_type": "execute_result",
          "data": {
            "text/plain": [
              "Text(0.5,1,'test acc regarding nway at training')"
            ]
          },
          "metadata": {
            "tags": []
          },
          "execution_count": 40
        },
        {
          "output_type": "display_data",
          "data": {
            "image/png": "[encoded data removed]",
            "text/plain": [
              "<matplotlib.figure.Figure at 0x7f46437c2dd8>"
            ]
          },
          "metadata": {
            "tags": []
          }
        }
      ]
    },
    {
      "metadata": {
        "id": "3yGVqCO4P7Xl",
        "colab_type": "text"
      },
      "cell_type": "markdown",
      "source": [
        "**Discussion**\n",
        "\n",
        "When I first saw this result I was very surprise. The good thing is that it was confirming what was affirm in the paper : N ways at training influence the accuracy at testing time (with 20 ways).  However, my best result was for N = 20, while the paper had mention 60 was better than 20.\n",
        "On one hand 20 could have make sence, since it was exactly the same condition as testing. But to verify my finding, I plotted below the testing accuracy for each N ways to see if it had already converge. We see that 45 ways, 60 ways , 80 ways were still rising ( so has not converge) and all of them at some point went above 93% accuracy, which the accuracy of the 20 ways after 30 epochs above. Therefore a longer test with more epochs should be run, but for the N ways used at training seems to have some infuence. Hopefull I can say more about it maybe if I hope we meet for the next step of recruitment process."
      ]
    },
    {
      "metadata": {
        "id": "qopRhng6utrz",
        "colab_type": "code",
        "colab": {
          "base_uri": "https://localhost:8080/",
          "height": 587
        },
        "outputId": "d802a242-c456-4c8e-bad2-6d430aadf492"
      },
      "cell_type": "code",
      "source": [
        "w=12\n",
        "h=12\n",
        "fig=plt.figure(figsize=(15, 15))\n",
        "plt.subplots_adjust(hspace=0.5, wspace=0.4)\n",
        "\n",
        "columns = 3\n",
        "rows = 3\n",
        "for i in range(1, 7):\n",
        "    fig.add_subplot(rows, columns, i)\n",
        "    x = res_nways[-i]\n",
        "    loss = [np.mean(x_) for x_ in x[0]]\n",
        "    train = [np.mean(x_) for x_ in x[1]]\n",
        "    test = [np.mean(x_) for x_ in x[2]]\n",
        "    x_train = range(nepochs)\n",
        "    x_test = range(0,nepochs,print_freq)\n",
        "\n",
        "    plt.plot(x_test, test, color='blue')\n",
        "    plt.title(str(N_WAYS[-i]) + ' ways')\n",
        "    plt.xlabel(\"epochs\")\n",
        "    plt.ylabel(\"acc\")\n",
        "\n",
        "test[-i]\n",
        "plt.show()"
      ],
      "execution_count": 91,
      "outputs": [
        {
          "output_type": "display_data",
          "data": {
            "image/png": "[encoded data removed]",
            "text/plain": [
              "<matplotlib.figure.Figure at 0x7f464f50a2b0>"
            ]
          },
          "metadata": {
            "tags": []
          }
        }
      ]
    },
    {
      "metadata": {
        "id": "V5DpdjKpkVS_",
        "colab_type": "code",
        "colab": {}
      },
      "cell_type": "code",
      "source": [
        ""
      ],
      "execution_count": 0,
      "outputs": []
    },
    {
      "metadata": {
        "id": "8_f6UFk2kUd0",
        "colab_type": "code",
        "colab": {}
      },
      "cell_type": "code",
      "source": [
        ""
      ],
      "execution_count": 0,
      "outputs": []
    },
    {
      "metadata": {
        "id": "mJbHB7M3kUas",
        "colab_type": "code",
        "colab": {}
      },
      "cell_type": "code",
      "source": [
        ""
      ],
      "execution_count": 0,
      "outputs": []
    }
  ]
}